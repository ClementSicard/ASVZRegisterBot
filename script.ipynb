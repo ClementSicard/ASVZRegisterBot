{
 "metadata": {
  "language_info": {
   "codemirror_mode": {
    "name": "ipython",
    "version": 3
   },
   "file_extension": ".py",
   "mimetype": "text/x-python",
   "name": "python",
   "nbconvert_exporter": "python",
   "pygments_lexer": "ipython3",
   "version": "3.8.9"
  },
  "orig_nbformat": 2,
  "kernelspec": {
   "name": "python389jvsc74a57bd0aee8b7b246df8f9039afb4144a1f6fd8d2ca17a180786b69acc140d282b71a49",
   "display_name": "Python 3.8.9 64-bit"
  },
  "metadata": {
   "interpreter": {
    "hash": "aee8b7b246df8f9039afb4144a1f6fd8d2ca17a180786b69acc140d282b71a49"
   }
  }
 },
 "nbformat": 4,
 "nbformat_minor": 2,
 "cells": [
  {
   "cell_type": "code",
   "execution_count": 2,
   "metadata": {},
   "outputs": [],
   "source": [
    "from selenium import webdriver\n",
    "from time import sleep\n",
    "from bs4 import BeautifulSoup\n",
    "import yaml\n",
    "from datetime import datetime, date, timedelta"
   ]
  },
  {
   "cell_type": "code",
   "execution_count": 2,
   "metadata": {},
   "outputs": [],
   "source": [
    "POLYTERASSE_CODE = 45594\n",
    "HONGG_CODE = 45598\n",
    "IRCHEL_CODE = 45577\n",
    "\n",
    "desired_time = \"07:20\"\n",
    "\n",
    "FITNESS_CODE = 122920\n",
    "\n"
   ]
  },
  {
   "cell_type": "code",
   "execution_count": 3,
   "metadata": {},
   "outputs": [],
   "source": [
    "options = webdriver.ChromeOptions()\n",
    "\n",
    "# Ignore TLS certificate errors to prevent errors. No special requirement for security here\n",
    "options.add_argument('--ignore-certificate-errors')\n",
    "\n",
    "# Sets up the browser to be in incognito mode\n",
    "options.add_argument('--incognito')\n",
    "\n",
    "# MOST IMPORTANT PARAMATER : enables the headless mode, namely no window is displayed and everything is ran in the background\n",
    "# options.add_argument('--headless')\n",
    "\n",
    "# Forces the driver to be in English for compatability matters\n",
    "options.add_experimental_option(\n",
    "    'prefs', {'intl.accept_languages': 'en,en_US'})\n",
    "\n",
    "driver = webdriver.Chrome(options=options)\n"
   ]
  },
  {
   "cell_type": "code",
   "execution_count": 9,
   "metadata": {},
   "outputs": [],
   "source": [
    "BASE_URL = \"https://schalter.asvz.ch/\"\n",
    "driver.get(BASE_URL)"
   ]
  },
  {
   "cell_type": "code",
   "execution_count": 10,
   "metadata": {},
   "outputs": [],
   "source": [
    "sleep(1)\n",
    "switch_login = \"btn-warning\"\n",
    "driver.find_element_by_class_name(switch_login).click();\n",
    "sleep(1)\n"
   ]
  },
  {
   "cell_type": "code",
   "execution_count": 11,
   "metadata": {},
   "outputs": [],
   "source": [
    "textbox = \"idd_textbox\"\n",
    "\n",
    "driver.find_element_by_class_name(textbox).click()"
   ]
  },
  {
   "cell_type": "code",
   "execution_count": 12,
   "metadata": {},
   "outputs": [],
   "source": [
    "sleep(0.2)\n",
    "x_path = \"//div[@savedvalue=\\\"https://aai-logon.ethz.ch/idp/shibboleth\\\"]\"\n",
    "driver.find_element_by_xpath(x_path).click()"
   ]
  },
  {
   "cell_type": "code",
   "execution_count": 13,
   "metadata": {},
   "outputs": [],
   "source": [
    "creds_file = open(\"creds.yaml\")\n",
    "creds = yaml.load(creds_file, Loader=yaml.FullLoader)\n",
    "\n",
    "username = creds[\"username\"]\n",
    "password = creds[\"password\"]"
   ]
  },
  {
   "cell_type": "code",
   "execution_count": 14,
   "metadata": {},
   "outputs": [],
   "source": [
    "x_path = \"//input[@name=\\\"j_username\\\"]\"\n",
    "username_field = driver.find_element_by_xpath(x_path)\n",
    "username_field.send_keys(username)\n",
    "\n",
    "x_path = \"//input[@name=\\\"j_password\\\"]\"\n",
    "password_field = driver.find_element_by_xpath(x_path)\n",
    "password_field.send_keys(password)\n"
   ]
  },
  {
   "cell_type": "code",
   "execution_count": 15,
   "metadata": {},
   "outputs": [],
   "source": [
    "elem = driver.find_element_by_xpath(\"//button[@type=\\\"submit\\\"]\")\n",
    "elem.click()\n",
    "sleep(1)\n",
    "\n",
    "sleep(4)"
   ]
  },
  {
   "cell_type": "code",
   "execution_count": 16,
   "metadata": {},
   "outputs": [],
   "source": [
    "tomorrow = date.today() + timedelta(days=3)\n",
    "d = tomorrow.strftime(\"%Y-%m-%d\")\n",
    "date_in_url = d + \"%20\" + desired_time\n",
    "\n",
    "date_url=\"2021-04-29%2008:55\"\n"
   ]
  },
  {
   "cell_type": "code",
   "execution_count": 17,
   "metadata": {},
   "outputs": [],
   "source": [
    "lektionen_url = f\"https://asvz.ch/426-sportfahrplan?f[0]=sport:{FITNESS_CODE}&f[1]=facility:{POLYTERASSE_CODE}&date={date_in_url}\"\n",
    "\n",
    "driver.get(lektionen_url)\n"
   ]
  },
  {
   "cell_type": "code",
   "execution_count": 19,
   "metadata": {},
   "outputs": [
    {
     "output_type": "stream",
     "name": "stdout",
     "text": [
      "You cannot register for now (either too early, too late or no more places.\n"
     ]
    }
   ],
   "source": [
    "lecture_x_path = \"//*[@id=\\\"block-asvz-next-content\\\"]/div/div[1]/div[2]/div[4]/div[1]/div/ul/li[1]/a\"\n",
    "freie_platze_x_path = \"//*[@id=\\\"block-asvz-next-content\\\"]/div/div[1]/div[2]/div[4]/div[1]/div/ul/li[1]/a/div[3]/div/div/div/div[2]\"\n",
    "\n",
    "freie_platze = True\n",
    "try:\n",
    "    driver.find_element_by_xpath(freie_platze_x_path).text[:5].lower() == \"freie\"\n",
    "except:\n",
    "    freie_platze = False\n",
    "\n",
    "if not freie_platze:\n",
    "    raise Exception(\"You cannot register for now (either too early, too late or no more places.\")\n",
    "    exit()\n",
    "else:\n",
    "    lecture_url = driver.find_element_by_xpath(lecture_x_path).get_attribute(\"href\")\n"
   ]
  },
  {
   "cell_type": "code",
   "execution_count": 55,
   "metadata": {},
   "outputs": [],
   "source": [
    "driver.get(lecture_url)\n",
    "sleep(4)"
   ]
  },
  {
   "cell_type": "code",
   "execution_count": 61,
   "metadata": {},
   "outputs": [
    {
     "output_type": "stream",
     "name": "stdout",
     "text": [
      "You are already registered\n"
     ]
    }
   ],
   "source": [
    "einschreiben_button = driver.find_element_by_xpath(\"//*[@id=\\\"btnRegister\\\"]\")\n",
    "try:    \n",
    "    if \"einschreiben\" in einschreiben_button.text:\n",
    "        einschreiben_button.click()\n",
    "        print(\"You were successfully registered!\")\n",
    "    else:\n",
    "        print(\"You are already registered\")\n",
    "except:\n",
    "    print(\"Oops... Couldn't find registration button\")"
   ]
  }
 ]
}